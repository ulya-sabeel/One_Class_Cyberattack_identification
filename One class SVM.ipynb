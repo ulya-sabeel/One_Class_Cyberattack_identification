{
 "cells": [
  {
   "cell_type": "code",
   "execution_count": 3,
   "metadata": {},
   "outputs": [],
   "source": [
    "# one-class svm for imbalanced binary classification\n",
    "from sklearn.datasets import make_classification\n",
    "from sklearn.model_selection import train_test_split\n",
    "from sklearn.metrics import f1_score\n",
    "from sklearn.svm import OneClassSVM\n",
    "import pandas as pd\n",
    "import numpy as np"
   ]
  },
  {
   "cell_type": "code",
   "execution_count": 4,
   "metadata": {},
   "outputs": [],
   "source": [
    "# load  preprocessed dataset\n",
    "data=pd.read_csv(\"train.csv\")\n",
    "#convert data from dataframe to matrix\n",
    "data_new=data.values\n",
    "\n",
    "#Split data into training data (X) and target label(Y)\n",
    "X=data_new[:,:-1] #gets elements of array but the last one\n",
    "Y=data_new[:,-1]"
   ]
  },
  {
   "cell_type": "code",
   "execution_count": 5,
   "metadata": {},
   "outputs": [],
   "source": [
    "#train-test split\n",
    "from sklearn.model_selection import train_test_split\n",
    "x_train, x_test, y_train, y_test = train_test_split( X, Y, test_size=0.30,random_state=4)"
   ]
  },
  {
   "cell_type": "code",
   "execution_count": 6,
   "metadata": {},
   "outputs": [
    {
     "name": "stdout",
     "output_type": "stream",
     "text": [
      "One class SVM model trained in 3228.754 seconds\n"
     ]
    }
   ],
   "source": [
    "# define outlier detection model\n",
    "model = OneClassSVM(gamma='scale', nu=0.01)\n",
    "# fit on majority class\n",
    "x_train = x_train[y_train==0]\n",
    "from time import time\n",
    "t0 = time()\n",
    "model.fit(x_train)\n",
    "tf = time() - t0\n",
    "print (\"One class SVM model trained in {} seconds\".format(round(tf, 3)))\n"
   ]
  },
  {
   "cell_type": "code",
   "execution_count": 7,
   "metadata": {},
   "outputs": [
    {
     "name": "stdout",
     "output_type": "stream",
     "text": [
      "F1 Score: 0.099\n"
     ]
    }
   ],
   "source": [
    "# detect outliers in the test set\n",
    "pred = model.predict(x_test)\n",
    "# mark inliers 1, outliers -1\n",
    "y_test[y_test == 1] = -1\n",
    "y_test[y_test == 0] = 1\n",
    "# calculate score\n",
    "score = f1_score(y_test, pred, pos_label=-1)\n",
    "print('F1 Score: %.3f' % score)"
   ]
  }
 ],
 "metadata": {
  "kernelspec": {
   "display_name": "Python 3",
   "language": "python",
   "name": "python3"
  },
  "language_info": {
   "codemirror_mode": {
    "name": "ipython",
    "version": 3
   },
   "file_extension": ".py",
   "mimetype": "text/x-python",
   "name": "python",
   "nbconvert_exporter": "python",
   "pygments_lexer": "ipython3",
   "version": "3.7.4"
  }
 },
 "nbformat": 4,
 "nbformat_minor": 2
}
